{
 "cells": [
  {
   "cell_type": "markdown",
   "metadata": {},
   "source": [
    "# Tubes de confiance\n",
    "\n",
    "Les tubes de confiances sont calculés à partir d'estimations de chacune des courbes en fonction d'autres appelés \"facteurs\".\n",
    "\n",
    "Ce code permet de construire des tubes graphiquement. Pour l'instant l'outil utilisé est assez simple puisqu'il n'utilise que des régressions linéaires. L'idée est que de telles régressions sur de petits nombres de facteurs doivent être suffisante sur des intervalles pas trop longs.\n",
    "\n",
    "Les régressions sont calculées à partir d'échantillonnage de points et testées sur d'autres échantillonnages différents. Un paramètre permet de choisir le taux d'échantillonnage pour l'apprentissage et le test.\n",
    "\n",
    "On construit ainsi pour chaque variable à étudier une série de petites régressions. Les tubes sont simplement issus des valeurs maximales et minimales de ces régressions.\n",
    "\n",
    "Un objet `Tube` gère l'apprentissage et la conception graphique de tous les tubes d'un intervalle, et un autre objet  `AppTube` applique le tube à un Opset compatible (ayant les mêmes variables par signal).\n",
    "\n",
    "### Reste à faire :\n",
    "\n",
    "1. [ ] Un calcul de valeurs extrêmes pour appliquer un coefficient à ces bornes pour que le score (actuellement nombre de points en dehors du tube) corresponde à un seuil statistique.\n",
    "2. [ ] L'implémentation des scores dans l'objet d'application.\n"
   ]
  },
  {
   "cell_type": "code",
   "execution_count": 1,
   "metadata": {},
   "outputs": [],
   "source": [
    "from importlib import reload\n",
    "\n",
    "import numpy as np\n",
    "import pandas as pd\n",
    "import tabata.opset as op\n",
    "\n",
    "from tabata import Selector, Tube, AppTube, highlight"
   ]
  },
  {
   "cell_type": "markdown",
   "metadata": {},
   "source": [
    "Pour des raisons de debuggage, je recharge le module."
   ]
  },
  {
   "cell_type": "code",
   "execution_count": 2,
   "metadata": {},
   "outputs": [],
   "source": [
    "%reload_ext autoreload\n",
    "%autoreload 2"
   ]
  },
  {
   "cell_type": "markdown",
   "metadata": {},
   "source": [
    "On récupère les deux détections d'instants effectuées dans le notebook \"instants_doc\"."
   ]
  },
  {
   "cell_type": "code",
   "execution_count": 3,
   "metadata": {},
   "outputs": [],
   "source": [
    "import pickle\n",
    "with open('data/out/interval.pkl','rb') as pkl:\n",
    "    S,S1 = pickle.load(pkl)"
   ]
  },
  {
   "cell_type": "markdown",
   "metadata": {},
   "source": [
    "### `S` correspond au début de la phase de croisère."
   ]
  },
  {
   "cell_type": "code",
   "execution_count": 4,
   "metadata": {},
   "outputs": [
    {
     "data": {
      "text/plain": [
       "OPSET 'data/out/AFL1EB_C.h5' de 48 signaux.\n",
       "        position courante : sigpos  = 8\n",
       "        variable courante : colname = ALT[m]\n",
       "        phase surlignée   : phase   = None\n",
       "INSTANTS : 9 instant(s) sélectionnés parmis 10 courbes observées et 1 variables."
      ]
     },
     "execution_count": 4,
     "metadata": {},
     "output_type": "execute_result"
    }
   ],
   "source": [
    "S"
   ]
  },
  {
   "cell_type": "code",
   "execution_count": 5,
   "metadata": {},
   "outputs": [
    {
     "data": {
      "application/vnd.jupyter.widget-view+json": {
       "model_id": "d7ef122402b04047a778dd19145cacbb",
       "version_major": 2,
       "version_minor": 0
      },
      "text/plain": [
       "Tab(children=(VBox(children=(HBox(children=(Dropdown(description='Variable :', options=('ALT[m]', 'Tisa[K]', '…"
      ]
     },
     "metadata": {},
     "output_type": "display_data"
    }
   ],
   "source": [
    "S.plot()"
   ]
  },
  {
   "cell_type": "markdown",
   "metadata": {},
   "source": [
    "### `S1` est la fin de la phase de croisière."
   ]
  },
  {
   "cell_type": "code",
   "execution_count": 6,
   "metadata": {},
   "outputs": [
    {
     "data": {
      "text/plain": [
       "OPSET 'data/out/AFL1EB_C.h5' de 48 signaux.\n",
       "        position courante : sigpos  = 0\n",
       "        variable courante : colname = ALT[m]\n",
       "        phase surlignée   : phase   = None\n",
       "INSTANTS : 16 instant(s) sélectionnés parmis 48 courbes observées et 1 variables."
      ]
     },
     "execution_count": 6,
     "metadata": {},
     "output_type": "execute_result"
    }
   ],
   "source": [
    "S1"
   ]
  },
  {
   "cell_type": "code",
   "execution_count": 7,
   "metadata": {},
   "outputs": [
    {
     "data": {
      "application/vnd.jupyter.widget-view+json": {
       "model_id": "b3deab1c63d34b74b2df10337f458abe",
       "version_major": 2,
       "version_minor": 0
      },
      "text/plain": [
       "Tab(children=(VBox(children=(HBox(children=(Dropdown(description='Variable :', options=('ALT[m]', 'Tisa[K]', '…"
      ]
     },
     "metadata": {},
     "output_type": "display_data"
    }
   ],
   "source": [
    "S1.plot()"
   ]
  },
  {
   "cell_type": "markdown",
   "metadata": {},
   "source": [
    "## Extraction de l'intervalle\n",
    "\n",
    "On utilise la méthode `between()` du détecteur d'instants pour extraire la zone à étudier.\n",
    "\n",
    "_(Une autre solution sans doite plus maline aurait été d'utiliser la méthode `right()` sur `S` puis extraire `S1` à partir de la première détection et enfin utiliser `left()` sur `S1`.)_"
   ]
  },
  {
   "cell_type": "code",
   "execution_count": 8,
   "metadata": {},
   "outputs": [],
   "source": [
    "E = S.between(S.predict(),S1.predict())"
   ]
  },
  {
   "cell_type": "code",
   "execution_count": 9,
   "metadata": {},
   "outputs": [
    {
     "data": {
      "application/vnd.jupyter.widget-view+json": {
       "model_id": "ba4d3880ca174952944705110e297241",
       "version_major": 2,
       "version_minor": 0
      },
      "text/plain": [
       "VBox(children=(HBox(children=(Dropdown(description='Variable :', options=('ALT[m]', 'Tisa[K]', 'TAS[m/s]', 'Vz…"
      ]
     },
     "metadata": {},
     "output_type": "display_data"
    }
   ],
   "source": [
    "E.plot()"
   ]
  },
  {
   "cell_type": "markdown",
   "metadata": {},
   "source": [
    "### Mise en évidence d'une partie d'un signal.\n",
    "\n",
    "Les Opsets ont la possibilité de définir une variable booléenne comme une _phase_ particulière. La fonction `highlight()` du package \"tubes\" permet de fixer une phase INTERVAL à un OPset à partir d'un autre.\n",
    "\n",
    "_(Il est nécessaire que les deux Opsets aient les mêmes noms d'entregistrements.)_"
   ]
  },
  {
   "cell_type": "code",
   "execution_count": 10,
   "metadata": {},
   "outputs": [],
   "source": [
    "ds = highlight(S,E)"
   ]
  },
  {
   "cell_type": "code",
   "execution_count": 11,
   "metadata": {},
   "outputs": [
    {
     "data": {
      "application/vnd.jupyter.widget-view+json": {
       "model_id": "275ce5ad41e143df95305d8173a79076",
       "version_major": 2,
       "version_minor": 0
      },
      "text/plain": [
       "VBox(children=(HBox(children=(Dropdown(description='Variable :', options=('ALT[m]', 'Tisa[K]', 'TAS[m/s]', 'Vz…"
      ]
     },
     "metadata": {},
     "output_type": "display_data"
    }
   ],
   "source": [
    "ds.plot()"
   ]
  },
  {
   "cell_type": "markdown",
   "metadata": {},
   "source": [
    "## Construction d'un tube\n",
    "\n",
    "Un tube est un couple de deux courbes qui devraint délimiter les zônes acceptables pour un signal. Pour construire nos tubes nous utilisons une populatuon de régressions. Ces régressions seront appliquées à de petits nombres de facteurs et apprises sur un échantillonnage des points.\n",
    "\n",
    "Les maximum et minimum de ces rgressions vont donner un gabarit au tube. On appliquera finalement à ce gabarit un facteur multiplicatif."
   ]
  },
  {
   "cell_type": "markdown",
   "metadata": {},
   "source": [
    "### Variables et facteurs\n",
    "\n",
    "Nous ne calculons de tubes que pour les variables sélectionnées dans l'ensemble défini par la variable `.variables`.\n",
    "Les facteurs exploités par les régressions sont à prendre dans `.factors`.\n",
    "\n",
    "Par défaut seule la première variable des signaux ne sera exploitée et toutes les autres serviront de facteurs."
   ]
  },
  {
   "cell_type": "code",
   "execution_count": 12,
   "metadata": {},
   "outputs": [
    {
     "data": {
      "text/plain": [
       "OPSET 'data/out/AFL1EB_CB.h5' de 48 signaux.\n",
       "        position courante : sigpos  = 0\n",
       "        variable courante : colname = ALT[m]\n",
       "        phase surlignée   : phase   = None\n",
       "TUBE : on 2 variables."
      ]
     },
     "execution_count": 12,
     "metadata": {},
     "output_type": "execute_result"
    }
   ],
   "source": [
    "T = Tube(E.storename)\n",
    "T.variables = {\"ALT[m]\", \"Tisa[K]\"}\n",
    "T.fit()"
   ]
  },
  {
   "cell_type": "markdown",
   "metadata": {},
   "source": [
    "La description du tube donne le détail des apprentissages."
   ]
  },
  {
   "cell_type": "code",
   "execution_count": 13,
   "metadata": {},
   "outputs": [
    {
     "data": {
      "text/html": [
       "<div>\n",
       "<style scoped>\n",
       "    .dataframe tbody tr th:only-of-type {\n",
       "        vertical-align: middle;\n",
       "    }\n",
       "\n",
       "    .dataframe tbody tr th {\n",
       "        vertical-align: top;\n",
       "    }\n",
       "\n",
       "    .dataframe thead th {\n",
       "        text-align: right;\n",
       "    }\n",
       "</style>\n",
       "<table border=\"1\" class=\"dataframe\">\n",
       "  <thead>\n",
       "    <tr style=\"text-align: right;\">\n",
       "      <th></th>\n",
       "      <th>ALT[m]</th>\n",
       "      <th>Tisa[K]</th>\n",
       "      <th>TAS[m/s]</th>\n",
       "      <th>Vz[m/s]</th>\n",
       "      <th>Masse[kg]</th>\n",
       "      <th>F[N]</th>\n",
       "      <th>CR</th>\n",
       "      <th>TIME</th>\n",
       "      <th>MEDIAN</th>\n",
       "      <th>CAUSAL</th>\n",
       "    </tr>\n",
       "    <tr>\n",
       "      <th>Regresions</th>\n",
       "      <th></th>\n",
       "      <th></th>\n",
       "      <th></th>\n",
       "      <th></th>\n",
       "      <th></th>\n",
       "      <th></th>\n",
       "      <th></th>\n",
       "      <th></th>\n",
       "      <th></th>\n",
       "      <th></th>\n",
       "    </tr>\n",
       "  </thead>\n",
       "  <tbody>\n",
       "    <tr>\n",
       "      <th>ALT[m]</th>\n",
       "      <td>0</td>\n",
       "      <td>5</td>\n",
       "      <td>2</td>\n",
       "      <td>5</td>\n",
       "      <td>3</td>\n",
       "      <td>2</td>\n",
       "      <td>3</td>\n",
       "      <td>0</td>\n",
       "      <td>0</td>\n",
       "      <td>0</td>\n",
       "    </tr>\n",
       "    <tr>\n",
       "      <th>Tisa[K]</th>\n",
       "      <td>5</td>\n",
       "      <td>0</td>\n",
       "      <td>2</td>\n",
       "      <td>3</td>\n",
       "      <td>2</td>\n",
       "      <td>3</td>\n",
       "      <td>2</td>\n",
       "      <td>0</td>\n",
       "      <td>0</td>\n",
       "      <td>0</td>\n",
       "    </tr>\n",
       "  </tbody>\n",
       "</table>\n",
       "</div>"
      ],
      "text/plain": [
       "            ALT[m]  Tisa[K]  TAS[m/s]  Vz[m/s]  Masse[kg]  F[N]  CR  TIME  \\\n",
       "Regresions                                                                  \n",
       "ALT[m]           0        5         2        5          3     2   3     0   \n",
       "Tisa[K]          5        0         2        3          2     3   2     0   \n",
       "\n",
       "            MEDIAN  CAUSAL  \n",
       "Regresions                  \n",
       "ALT[m]           0       0  \n",
       "Tisa[K]          0       0  "
      ]
     },
     "execution_count": 13,
     "metadata": {},
     "output_type": "execute_result"
    }
   ],
   "source": [
    "T.describe()"
   ]
  },
  {
   "cell_type": "markdown",
   "metadata": {},
   "source": [
    "Ce DataFrame dispose de lignes correspondant chacune à un modèle et les ciolonnes comptabilisent le nombre de fois qu'un facteur est utilisé."
   ]
  },
  {
   "cell_type": "markdown",
   "metadata": {},
   "source": [
    "### Paramétrage de l'apprentissage\n",
    "\n",
    "Les paramètres de l'apprentissage sont stockés dans le dictionnaire `.learn_params`."
   ]
  },
  {
   "cell_type": "code",
   "execution_count": 14,
   "metadata": {},
   "outputs": [
    {
     "data": {
      "text/plain": [
       "{'retry_number': 10,\n",
       " 'keep_best_number': 5,\n",
       " 'samples_percent': 0.01,\n",
       " 'max_features': 5}"
      ]
     },
     "execution_count": 14,
     "metadata": {},
     "output_type": "execute_result"
    }
   ],
   "source": [
    "T.learn_params"
   ]
  },
  {
   "cell_type": "markdown",
   "metadata": {},
   "source": [
    "le nombre de régressions testées par modèle est défini par `retry_number` mais au final seules les meilleures `keep_best_number` seront conservées en fonction de leur coefficient $R^2$.\n",
    "\n",
    "Les deux autres paramètres, `samples_percent` donne le taux d'échantillonnage por l'apprentissage et le test, `max_features`, le nombre maximum de facteurs utilisables par régression."
   ]
  },
  {
   "cell_type": "markdown",
   "metadata": {},
   "source": [
    "### Facteurs supplémentaires\n",
    "Il est possible de rajouter des facteurs supplémentaires. \n",
    "En fait, à terme il derait être possible de construire des modèles plus complexes, par exemple en rajoutant des interactions. Mais pour l'instant seuls deux facteurs supplémentaires sont sélectionnables.\n",
    "\n",
    "Ils sont définis par le dictionnaire `.feature_params`."
   ]
  },
  {
   "cell_type": "code",
   "execution_count": 15,
   "metadata": {},
   "outputs": [
    {
     "data": {
      "text/plain": [
       "{'local_value': 'Absolute', 'use_time': 'No'}"
      ]
     },
     "execution_count": 15,
     "metadata": {},
     "output_type": "execute_result"
    }
   ],
   "source": [
    "T.feature_params"
   ]
  },
  {
   "cell_type": "markdown",
   "metadata": {},
   "source": [
    "`local_value` peut prendre l'une des trois valeurs :\n",
    "- 'Absolute' (par défaut) correspond à ne pas rajouter de variable supplémentaire.\n",
    "- 'Median' rajoute la variable 'MEDIAN' constante égale à la médiane du signal à modéliser (pour avoir une estimation relative de l'écart à la médiane).\n",
    "- 'Causal' rajoute une variable 'CAUSAL' constante égale à la première valeur du signal à prédire\n",
    "\n",
    "`use_time` peut prendre l'une des deux valeurs :\n",
    "- 'No' (par défaut) consiste à ne rien ajouter au signal.\n",
    "- 'Yes' permet d'ajouter une variable 'TIME' correspondant aux numéro de chaque point de la courbe."
   ]
  },
  {
   "cell_type": "markdown",
   "metadata": {},
   "source": [
    "### Gabarit du tube\n",
    "\n",
    "Pour l'instant le gabrit du tube est fixé \"à la main\" par l'élément `tube_factor` du dictionnaire `.tube_params`."
   ]
  },
  {
   "cell_type": "code",
   "execution_count": 16,
   "metadata": {},
   "outputs": [
    {
     "data": {
      "text/plain": [
       "{'tube_factor': 10.0, 'filter_width': 20}"
      ]
     },
     "execution_count": 16,
     "metadata": {},
     "output_type": "execute_result"
    }
   ],
   "source": [
    "T.tube_params"
   ]
  },
  {
   "cell_type": "markdown",
   "metadata": {},
   "source": [
    "A terme il va falloir remplacer cette valeur par une proportion des points du signal que l'on suppose hors-tube. Le mieux étant d'estimer une loi de pareto généralisée au delà du tube pour identifier une vrai probabilité d'anomalie (à faire)."
   ]
  },
  {
   "cell_type": "markdown",
   "metadata": {},
   "source": [
    "Une autre valeur de ce dictionnaire: `filter_width` permet de lisser le tube."
   ]
  },
  {
   "cell_type": "markdown",
   "metadata": {},
   "source": [
    "## Estimation et scores\n",
    "\n",
    "La méthode `estimate()` permet de récupérer les bornes du tube et la valeur moyenne pour une variable sous la forme de trois vecteurs.\n",
    "\n",
    "Trois fonctions calculent les scores correspondant aux nombre de points hors-tube. A chaque fois, un DataFrame de résultats est renvoyé."
   ]
  },
  {
   "cell_type": "code",
   "execution_count": 17,
   "metadata": {},
   "outputs": [],
   "source": [
    "z,zmin,zmax = T.rewind(3).estimate(\"ALT[m]\")"
   ]
  },
  {
   "cell_type": "markdown",
   "metadata": {},
   "source": [
    "`local_scores()` renvoie les scores de l'enregistrement courant.\n",
    "La première colonne est le nombre de points de l'enregistrement, et chaque colonne suivante donne le nombre de points \"hors-tube\"."
   ]
  },
  {
   "cell_type": "code",
   "execution_count": 18,
   "metadata": {},
   "outputs": [
    {
     "data": {
      "text/html": [
       "<div>\n",
       "<style scoped>\n",
       "    .dataframe tbody tr th:only-of-type {\n",
       "        vertical-align: middle;\n",
       "    }\n",
       "\n",
       "    .dataframe tbody tr th {\n",
       "        vertical-align: top;\n",
       "    }\n",
       "\n",
       "    .dataframe thead th {\n",
       "        text-align: right;\n",
       "    }\n",
       "</style>\n",
       "<table border=\"1\" class=\"dataframe\">\n",
       "  <thead>\n",
       "    <tr style=\"text-align: right;\">\n",
       "      <th></th>\n",
       "      <th>N</th>\n",
       "      <th>ALT[m]</th>\n",
       "      <th>Tisa[K]</th>\n",
       "    </tr>\n",
       "  </thead>\n",
       "  <tbody>\n",
       "    <tr>\n",
       "      <th>/record_03</th>\n",
       "      <td>2150</td>\n",
       "      <td>2</td>\n",
       "      <td>49</td>\n",
       "    </tr>\n",
       "  </tbody>\n",
       "</table>\n",
       "</div>"
      ],
      "text/plain": [
       "               N  ALT[m]  Tisa[K]\n",
       "/record_03  2150       2       49"
      ]
     },
     "execution_count": 18,
     "metadata": {},
     "output_type": "execute_result"
    }
   ],
   "source": [
    "T.local_scores()"
   ]
  },
  {
   "cell_type": "markdown",
   "metadata": {},
   "source": [
    "`scores()` calcule tous les scores de l'Opset. La première colonne correspond au nombre de point du signal."
   ]
  },
  {
   "cell_type": "code",
   "execution_count": 19,
   "metadata": {},
   "outputs": [
    {
     "data": {
      "text/html": [
       "<div>\n",
       "<style scoped>\n",
       "    .dataframe tbody tr th:only-of-type {\n",
       "        vertical-align: middle;\n",
       "    }\n",
       "\n",
       "    .dataframe tbody tr th {\n",
       "        vertical-align: top;\n",
       "    }\n",
       "\n",
       "    .dataframe thead th {\n",
       "        text-align: right;\n",
       "    }\n",
       "</style>\n",
       "<table border=\"1\" class=\"dataframe\">\n",
       "  <thead>\n",
       "    <tr style=\"text-align: right;\">\n",
       "      <th></th>\n",
       "      <th>N</th>\n",
       "      <th>ALT[m]</th>\n",
       "      <th>Tisa[K]</th>\n",
       "    </tr>\n",
       "  </thead>\n",
       "  <tbody>\n",
       "    <tr>\n",
       "      <th>/record_00</th>\n",
       "      <td>3619</td>\n",
       "      <td>1</td>\n",
       "      <td>2</td>\n",
       "    </tr>\n",
       "    <tr>\n",
       "      <th>/record_01</th>\n",
       "      <td>3285</td>\n",
       "      <td>3</td>\n",
       "      <td>3</td>\n",
       "    </tr>\n",
       "    <tr>\n",
       "      <th>/record_02</th>\n",
       "      <td>3080</td>\n",
       "      <td>185</td>\n",
       "      <td>2</td>\n",
       "    </tr>\n",
       "    <tr>\n",
       "      <th>/record_03</th>\n",
       "      <td>2150</td>\n",
       "      <td>2</td>\n",
       "      <td>49</td>\n",
       "    </tr>\n",
       "    <tr>\n",
       "      <th>/record_04</th>\n",
       "      <td>730</td>\n",
       "      <td>0</td>\n",
       "      <td>0</td>\n",
       "    </tr>\n",
       "    <tr>\n",
       "      <th>/record_05</th>\n",
       "      <td>423</td>\n",
       "      <td>156</td>\n",
       "      <td>387</td>\n",
       "    </tr>\n",
       "    <tr>\n",
       "      <th>/record_10</th>\n",
       "      <td>410</td>\n",
       "      <td>0</td>\n",
       "      <td>0</td>\n",
       "    </tr>\n",
       "    <tr>\n",
       "      <th>/record_11</th>\n",
       "      <td>3395</td>\n",
       "      <td>1</td>\n",
       "      <td>1</td>\n",
       "    </tr>\n",
       "    <tr>\n",
       "      <th>/record_12</th>\n",
       "      <td>2396</td>\n",
       "      <td>1</td>\n",
       "      <td>26</td>\n",
       "    </tr>\n",
       "    <tr>\n",
       "      <th>/record_13</th>\n",
       "      <td>2719</td>\n",
       "      <td>97</td>\n",
       "      <td>34</td>\n",
       "    </tr>\n",
       "    <tr>\n",
       "      <th>/record_14</th>\n",
       "      <td>3801</td>\n",
       "      <td>54</td>\n",
       "      <td>41</td>\n",
       "    </tr>\n",
       "    <tr>\n",
       "      <th>/record_15</th>\n",
       "      <td>3614</td>\n",
       "      <td>4</td>\n",
       "      <td>54</td>\n",
       "    </tr>\n",
       "    <tr>\n",
       "      <th>/record_16</th>\n",
       "      <td>3354</td>\n",
       "      <td>5</td>\n",
       "      <td>14</td>\n",
       "    </tr>\n",
       "    <tr>\n",
       "      <th>/record_17</th>\n",
       "      <td>2712</td>\n",
       "      <td>0</td>\n",
       "      <td>0</td>\n",
       "    </tr>\n",
       "    <tr>\n",
       "      <th>/record_18</th>\n",
       "      <td>3958</td>\n",
       "      <td>6</td>\n",
       "      <td>15</td>\n",
       "    </tr>\n",
       "    <tr>\n",
       "      <th>/record_19</th>\n",
       "      <td>3321</td>\n",
       "      <td>1</td>\n",
       "      <td>1</td>\n",
       "    </tr>\n",
       "    <tr>\n",
       "      <th>/record_20</th>\n",
       "      <td>2552</td>\n",
       "      <td>3</td>\n",
       "      <td>18</td>\n",
       "    </tr>\n",
       "    <tr>\n",
       "      <th>/record_21</th>\n",
       "      <td>1538</td>\n",
       "      <td>3</td>\n",
       "      <td>8</td>\n",
       "    </tr>\n",
       "    <tr>\n",
       "      <th>/record_22</th>\n",
       "      <td>4293</td>\n",
       "      <td>0</td>\n",
       "      <td>0</td>\n",
       "    </tr>\n",
       "    <tr>\n",
       "      <th>/record_23</th>\n",
       "      <td>5020</td>\n",
       "      <td>0</td>\n",
       "      <td>0</td>\n",
       "    </tr>\n",
       "    <tr>\n",
       "      <th>/record_24</th>\n",
       "      <td>3959</td>\n",
       "      <td>4</td>\n",
       "      <td>146</td>\n",
       "    </tr>\n",
       "    <tr>\n",
       "      <th>/record_25</th>\n",
       "      <td>2446</td>\n",
       "      <td>0</td>\n",
       "      <td>0</td>\n",
       "    </tr>\n",
       "    <tr>\n",
       "      <th>/record_26</th>\n",
       "      <td>3909</td>\n",
       "      <td>2</td>\n",
       "      <td>2</td>\n",
       "    </tr>\n",
       "    <tr>\n",
       "      <th>/record_27</th>\n",
       "      <td>2981</td>\n",
       "      <td>62</td>\n",
       "      <td>31</td>\n",
       "    </tr>\n",
       "    <tr>\n",
       "      <th>/record_28</th>\n",
       "      <td>1328</td>\n",
       "      <td>0</td>\n",
       "      <td>0</td>\n",
       "    </tr>\n",
       "    <tr>\n",
       "      <th>/record_29</th>\n",
       "      <td>2326</td>\n",
       "      <td>4</td>\n",
       "      <td>14</td>\n",
       "    </tr>\n",
       "    <tr>\n",
       "      <th>/record_30</th>\n",
       "      <td>542</td>\n",
       "      <td>19</td>\n",
       "      <td>30</td>\n",
       "    </tr>\n",
       "    <tr>\n",
       "      <th>/record_31</th>\n",
       "      <td>842</td>\n",
       "      <td>3</td>\n",
       "      <td>3</td>\n",
       "    </tr>\n",
       "    <tr>\n",
       "      <th>/record_32</th>\n",
       "      <td>7499</td>\n",
       "      <td>585</td>\n",
       "      <td>609</td>\n",
       "    </tr>\n",
       "    <tr>\n",
       "      <th>/record_33</th>\n",
       "      <td>6425</td>\n",
       "      <td>3</td>\n",
       "      <td>13</td>\n",
       "    </tr>\n",
       "    <tr>\n",
       "      <th>/record_34</th>\n",
       "      <td>3018</td>\n",
       "      <td>2</td>\n",
       "      <td>2</td>\n",
       "    </tr>\n",
       "    <tr>\n",
       "      <th>/record_35</th>\n",
       "      <td>2905</td>\n",
       "      <td>2</td>\n",
       "      <td>2</td>\n",
       "    </tr>\n",
       "    <tr>\n",
       "      <th>/record_36</th>\n",
       "      <td>5228</td>\n",
       "      <td>0</td>\n",
       "      <td>94</td>\n",
       "    </tr>\n",
       "    <tr>\n",
       "      <th>/record_37</th>\n",
       "      <td>5183</td>\n",
       "      <td>4459</td>\n",
       "      <td>4464</td>\n",
       "    </tr>\n",
       "    <tr>\n",
       "      <th>/record_38</th>\n",
       "      <td>2625</td>\n",
       "      <td>3</td>\n",
       "      <td>3</td>\n",
       "    </tr>\n",
       "    <tr>\n",
       "      <th>/record_39</th>\n",
       "      <td>3660</td>\n",
       "      <td>1</td>\n",
       "      <td>1</td>\n",
       "    </tr>\n",
       "    <tr>\n",
       "      <th>/record_40</th>\n",
       "      <td>4492</td>\n",
       "      <td>2</td>\n",
       "      <td>2</td>\n",
       "    </tr>\n",
       "    <tr>\n",
       "      <th>/record_41</th>\n",
       "      <td>4705</td>\n",
       "      <td>4</td>\n",
       "      <td>2</td>\n",
       "    </tr>\n",
       "    <tr>\n",
       "      <th>/record_42</th>\n",
       "      <td>0</td>\n",
       "      <td>0</td>\n",
       "      <td>0</td>\n",
       "    </tr>\n",
       "    <tr>\n",
       "      <th>/record_43</th>\n",
       "      <td>3730</td>\n",
       "      <td>57</td>\n",
       "      <td>0</td>\n",
       "    </tr>\n",
       "    <tr>\n",
       "      <th>/record_44</th>\n",
       "      <td>2608</td>\n",
       "      <td>114</td>\n",
       "      <td>511</td>\n",
       "    </tr>\n",
       "    <tr>\n",
       "      <th>/record_45</th>\n",
       "      <td>3115</td>\n",
       "      <td>0</td>\n",
       "      <td>0</td>\n",
       "    </tr>\n",
       "    <tr>\n",
       "      <th>/record_46</th>\n",
       "      <td>3516</td>\n",
       "      <td>651</td>\n",
       "      <td>772</td>\n",
       "    </tr>\n",
       "    <tr>\n",
       "      <th>/record_47</th>\n",
       "      <td>4049</td>\n",
       "      <td>4</td>\n",
       "      <td>53</td>\n",
       "    </tr>\n",
       "    <tr>\n",
       "      <th>/record_48</th>\n",
       "      <td>5865</td>\n",
       "      <td>2</td>\n",
       "      <td>3</td>\n",
       "    </tr>\n",
       "    <tr>\n",
       "      <th>/record_49</th>\n",
       "      <td>5924</td>\n",
       "      <td>372</td>\n",
       "      <td>114</td>\n",
       "    </tr>\n",
       "    <tr>\n",
       "      <th>/record_50</th>\n",
       "      <td>617</td>\n",
       "      <td>3</td>\n",
       "      <td>182</td>\n",
       "    </tr>\n",
       "    <tr>\n",
       "      <th>/record_51</th>\n",
       "      <td>4984</td>\n",
       "      <td>1</td>\n",
       "      <td>21</td>\n",
       "    </tr>\n",
       "  </tbody>\n",
       "</table>\n",
       "</div>"
      ],
      "text/plain": [
       "               N  ALT[m]  Tisa[K]\n",
       "/record_00  3619       1        2\n",
       "/record_01  3285       3        3\n",
       "/record_02  3080     185        2\n",
       "/record_03  2150       2       49\n",
       "/record_04   730       0        0\n",
       "/record_05   423     156      387\n",
       "/record_10   410       0        0\n",
       "/record_11  3395       1        1\n",
       "/record_12  2396       1       26\n",
       "/record_13  2719      97       34\n",
       "/record_14  3801      54       41\n",
       "/record_15  3614       4       54\n",
       "/record_16  3354       5       14\n",
       "/record_17  2712       0        0\n",
       "/record_18  3958       6       15\n",
       "/record_19  3321       1        1\n",
       "/record_20  2552       3       18\n",
       "/record_21  1538       3        8\n",
       "/record_22  4293       0        0\n",
       "/record_23  5020       0        0\n",
       "/record_24  3959       4      146\n",
       "/record_25  2446       0        0\n",
       "/record_26  3909       2        2\n",
       "/record_27  2981      62       31\n",
       "/record_28  1328       0        0\n",
       "/record_29  2326       4       14\n",
       "/record_30   542      19       30\n",
       "/record_31   842       3        3\n",
       "/record_32  7499     585      609\n",
       "/record_33  6425       3       13\n",
       "/record_34  3018       2        2\n",
       "/record_35  2905       2        2\n",
       "/record_36  5228       0       94\n",
       "/record_37  5183    4459     4464\n",
       "/record_38  2625       3        3\n",
       "/record_39  3660       1        1\n",
       "/record_40  4492       2        2\n",
       "/record_41  4705       4        2\n",
       "/record_42     0       0        0\n",
       "/record_43  3730      57        0\n",
       "/record_44  2608     114      511\n",
       "/record_45  3115       0        0\n",
       "/record_46  3516     651      772\n",
       "/record_47  4049       4       53\n",
       "/record_48  5865       2        3\n",
       "/record_49  5924     372      114\n",
       "/record_50   617       3      182\n",
       "/record_51  4984       1       21"
      ]
     },
     "execution_count": 19,
     "metadata": {},
     "output_type": "execute_result"
    }
   ],
   "source": [
    "T.scores()"
   ]
  },
  {
   "cell_type": "markdown",
   "metadata": {},
   "source": [
    "Finalement `plot_scores()` donne les résultats de manière graphique. après calcul de la proportion de poinst \"hors-tube\" par signal."
   ]
  },
  {
   "cell_type": "markdown",
   "metadata": {},
   "source": [
    "Le cas des longueurs d'intervalles vides pose encore des problème. Si c'est le cas c'est que les instants sont mal calculés, mais cela peut toujours arriver."
   ]
  },
  {
   "cell_type": "code",
   "execution_count": 20,
   "metadata": {},
   "outputs": [
    {
     "data": {
      "application/vnd.plotly.v1+json": {
       "config": {
        "plotlyServerURL": "https://plot.ly"
       },
       "data": [
        {
         "name": "ALT[m]",
         "type": "bar",
         "x": [
          "/record_00",
          "/record_01",
          "/record_02",
          "/record_03",
          "/record_04",
          "/record_05",
          "/record_10",
          "/record_11",
          "/record_12",
          "/record_13",
          "/record_14",
          "/record_15",
          "/record_16",
          "/record_17",
          "/record_18",
          "/record_19",
          "/record_20",
          "/record_21",
          "/record_22",
          "/record_23",
          "/record_24",
          "/record_25",
          "/record_26",
          "/record_27",
          "/record_28",
          "/record_29",
          "/record_30",
          "/record_31",
          "/record_32",
          "/record_33",
          "/record_34",
          "/record_35",
          "/record_36",
          "/record_37",
          "/record_38",
          "/record_39",
          "/record_40",
          "/record_41",
          "/record_42",
          "/record_43",
          "/record_44",
          "/record_45",
          "/record_46",
          "/record_47",
          "/record_48",
          "/record_49",
          "/record_50",
          "/record_51"
         ],
         "y": [
          0.00027631942525559546,
          0.0009132420091324201,
          0.060064935064935064,
          0.0009302325581395349,
          0,
          0.36879432624113473,
          0,
          0.0002945508100147275,
          0.00041736227045075126,
          0.03567488047076131,
          0.014206787687450671,
          0.0011068068622025456,
          0.0014907573047107932,
          0,
          0.0015159171298635675,
          0.00030111412225233364,
          0.0011755485893416929,
          0.0019505851755526658,
          0,
          0,
          0.0010103561505430665,
          0,
          0.0005116398055768739,
          0.02079838980207984,
          0,
          0.0017196904557179708,
          0.03505535055350553,
          0.0035629453681710215,
          0.07801040138685159,
          0.0004669260700389105,
          0.0006626905235255136,
          0.0006884681583476765,
          0,
          0.8603125602932664,
          0.001142857142857143,
          0.000273224043715847,
          0.0004452359750667854,
          0.0008501594048884166,
          null,
          0.015281501340482574,
          0.04371165644171779,
          0,
          0.18515358361774745,
          0.0009878982464806125,
          0.00034100596760443307,
          0.06279540850776502,
          0.004862236628849271,
          0.00020064205457463884
         ]
        },
        {
         "name": "Tisa[K]",
         "type": "bar",
         "x": [
          "/record_00",
          "/record_01",
          "/record_02",
          "/record_03",
          "/record_04",
          "/record_05",
          "/record_10",
          "/record_11",
          "/record_12",
          "/record_13",
          "/record_14",
          "/record_15",
          "/record_16",
          "/record_17",
          "/record_18",
          "/record_19",
          "/record_20",
          "/record_21",
          "/record_22",
          "/record_23",
          "/record_24",
          "/record_25",
          "/record_26",
          "/record_27",
          "/record_28",
          "/record_29",
          "/record_30",
          "/record_31",
          "/record_32",
          "/record_33",
          "/record_34",
          "/record_35",
          "/record_36",
          "/record_37",
          "/record_38",
          "/record_39",
          "/record_40",
          "/record_41",
          "/record_42",
          "/record_43",
          "/record_44",
          "/record_45",
          "/record_46",
          "/record_47",
          "/record_48",
          "/record_49",
          "/record_50",
          "/record_51"
         ],
         "y": [
          0.0005526388505111909,
          0.0009132420091324201,
          0.0006493506493506494,
          0.022790697674418603,
          0,
          0.9148936170212766,
          0,
          0.0002945508100147275,
          0.010851419031719533,
          0.01250459727841118,
          0.01078663509602736,
          0.014941892639734366,
          0.0041741204531902205,
          0,
          0.0037897928246589186,
          0.00030111412225233364,
          0.007053291536050157,
          0.005201560468140442,
          0,
          0,
          0.03687799949482193,
          0,
          0.0005116398055768739,
          0.01039919490103992,
          0,
          0.0060189165950128975,
          0.055350553505535055,
          0.0035629453681710215,
          0.08121082811041472,
          0.0020233463035019454,
          0.0006626905235255136,
          0.0006884681583476765,
          0.017980107115531753,
          0.8612772525564345,
          0.001142857142857143,
          0.000273224043715847,
          0.0004452359750667854,
          0.0004250797024442083,
          null,
          0,
          0.1959355828220859,
          0,
          0.21956769055745165,
          0.013089651765868116,
          0.0005115089514066496,
          0.01924375422012154,
          0.29497568881685576,
          0.004213483146067416
         ]
        }
       ],
       "layout": {
        "barmode": "stack",
        "template": {
         "data": {
          "bar": [
           {
            "error_x": {
             "color": "#2a3f5f"
            },
            "error_y": {
             "color": "#2a3f5f"
            },
            "marker": {
             "line": {
              "color": "#E5ECF6",
              "width": 0.5
             },
             "pattern": {
              "fillmode": "overlay",
              "size": 10,
              "solidity": 0.2
             }
            },
            "type": "bar"
           }
          ],
          "barpolar": [
           {
            "marker": {
             "line": {
              "color": "#E5ECF6",
              "width": 0.5
             },
             "pattern": {
              "fillmode": "overlay",
              "size": 10,
              "solidity": 0.2
             }
            },
            "type": "barpolar"
           }
          ],
          "carpet": [
           {
            "aaxis": {
             "endlinecolor": "#2a3f5f",
             "gridcolor": "white",
             "linecolor": "white",
             "minorgridcolor": "white",
             "startlinecolor": "#2a3f5f"
            },
            "baxis": {
             "endlinecolor": "#2a3f5f",
             "gridcolor": "white",
             "linecolor": "white",
             "minorgridcolor": "white",
             "startlinecolor": "#2a3f5f"
            },
            "type": "carpet"
           }
          ],
          "choropleth": [
           {
            "colorbar": {
             "outlinewidth": 0,
             "ticks": ""
            },
            "type": "choropleth"
           }
          ],
          "contour": [
           {
            "colorbar": {
             "outlinewidth": 0,
             "ticks": ""
            },
            "colorscale": [
             [
              0,
              "#0d0887"
             ],
             [
              0.1111111111111111,
              "#46039f"
             ],
             [
              0.2222222222222222,
              "#7201a8"
             ],
             [
              0.3333333333333333,
              "#9c179e"
             ],
             [
              0.4444444444444444,
              "#bd3786"
             ],
             [
              0.5555555555555556,
              "#d8576b"
             ],
             [
              0.6666666666666666,
              "#ed7953"
             ],
             [
              0.7777777777777778,
              "#fb9f3a"
             ],
             [
              0.8888888888888888,
              "#fdca26"
             ],
             [
              1,
              "#f0f921"
             ]
            ],
            "type": "contour"
           }
          ],
          "contourcarpet": [
           {
            "colorbar": {
             "outlinewidth": 0,
             "ticks": ""
            },
            "type": "contourcarpet"
           }
          ],
          "heatmap": [
           {
            "colorbar": {
             "outlinewidth": 0,
             "ticks": ""
            },
            "colorscale": [
             [
              0,
              "#0d0887"
             ],
             [
              0.1111111111111111,
              "#46039f"
             ],
             [
              0.2222222222222222,
              "#7201a8"
             ],
             [
              0.3333333333333333,
              "#9c179e"
             ],
             [
              0.4444444444444444,
              "#bd3786"
             ],
             [
              0.5555555555555556,
              "#d8576b"
             ],
             [
              0.6666666666666666,
              "#ed7953"
             ],
             [
              0.7777777777777778,
              "#fb9f3a"
             ],
             [
              0.8888888888888888,
              "#fdca26"
             ],
             [
              1,
              "#f0f921"
             ]
            ],
            "type": "heatmap"
           }
          ],
          "heatmapgl": [
           {
            "colorbar": {
             "outlinewidth": 0,
             "ticks": ""
            },
            "colorscale": [
             [
              0,
              "#0d0887"
             ],
             [
              0.1111111111111111,
              "#46039f"
             ],
             [
              0.2222222222222222,
              "#7201a8"
             ],
             [
              0.3333333333333333,
              "#9c179e"
             ],
             [
              0.4444444444444444,
              "#bd3786"
             ],
             [
              0.5555555555555556,
              "#d8576b"
             ],
             [
              0.6666666666666666,
              "#ed7953"
             ],
             [
              0.7777777777777778,
              "#fb9f3a"
             ],
             [
              0.8888888888888888,
              "#fdca26"
             ],
             [
              1,
              "#f0f921"
             ]
            ],
            "type": "heatmapgl"
           }
          ],
          "histogram": [
           {
            "marker": {
             "pattern": {
              "fillmode": "overlay",
              "size": 10,
              "solidity": 0.2
             }
            },
            "type": "histogram"
           }
          ],
          "histogram2d": [
           {
            "colorbar": {
             "outlinewidth": 0,
             "ticks": ""
            },
            "colorscale": [
             [
              0,
              "#0d0887"
             ],
             [
              0.1111111111111111,
              "#46039f"
             ],
             [
              0.2222222222222222,
              "#7201a8"
             ],
             [
              0.3333333333333333,
              "#9c179e"
             ],
             [
              0.4444444444444444,
              "#bd3786"
             ],
             [
              0.5555555555555556,
              "#d8576b"
             ],
             [
              0.6666666666666666,
              "#ed7953"
             ],
             [
              0.7777777777777778,
              "#fb9f3a"
             ],
             [
              0.8888888888888888,
              "#fdca26"
             ],
             [
              1,
              "#f0f921"
             ]
            ],
            "type": "histogram2d"
           }
          ],
          "histogram2dcontour": [
           {
            "colorbar": {
             "outlinewidth": 0,
             "ticks": ""
            },
            "colorscale": [
             [
              0,
              "#0d0887"
             ],
             [
              0.1111111111111111,
              "#46039f"
             ],
             [
              0.2222222222222222,
              "#7201a8"
             ],
             [
              0.3333333333333333,
              "#9c179e"
             ],
             [
              0.4444444444444444,
              "#bd3786"
             ],
             [
              0.5555555555555556,
              "#d8576b"
             ],
             [
              0.6666666666666666,
              "#ed7953"
             ],
             [
              0.7777777777777778,
              "#fb9f3a"
             ],
             [
              0.8888888888888888,
              "#fdca26"
             ],
             [
              1,
              "#f0f921"
             ]
            ],
            "type": "histogram2dcontour"
           }
          ],
          "mesh3d": [
           {
            "colorbar": {
             "outlinewidth": 0,
             "ticks": ""
            },
            "type": "mesh3d"
           }
          ],
          "parcoords": [
           {
            "line": {
             "colorbar": {
              "outlinewidth": 0,
              "ticks": ""
             }
            },
            "type": "parcoords"
           }
          ],
          "pie": [
           {
            "automargin": true,
            "type": "pie"
           }
          ],
          "scatter": [
           {
            "fillpattern": {
             "fillmode": "overlay",
             "size": 10,
             "solidity": 0.2
            },
            "type": "scatter"
           }
          ],
          "scatter3d": [
           {
            "line": {
             "colorbar": {
              "outlinewidth": 0,
              "ticks": ""
             }
            },
            "marker": {
             "colorbar": {
              "outlinewidth": 0,
              "ticks": ""
             }
            },
            "type": "scatter3d"
           }
          ],
          "scattercarpet": [
           {
            "marker": {
             "colorbar": {
              "outlinewidth": 0,
              "ticks": ""
             }
            },
            "type": "scattercarpet"
           }
          ],
          "scattergeo": [
           {
            "marker": {
             "colorbar": {
              "outlinewidth": 0,
              "ticks": ""
             }
            },
            "type": "scattergeo"
           }
          ],
          "scattergl": [
           {
            "marker": {
             "colorbar": {
              "outlinewidth": 0,
              "ticks": ""
             }
            },
            "type": "scattergl"
           }
          ],
          "scattermapbox": [
           {
            "marker": {
             "colorbar": {
              "outlinewidth": 0,
              "ticks": ""
             }
            },
            "type": "scattermapbox"
           }
          ],
          "scatterpolar": [
           {
            "marker": {
             "colorbar": {
              "outlinewidth": 0,
              "ticks": ""
             }
            },
            "type": "scatterpolar"
           }
          ],
          "scatterpolargl": [
           {
            "marker": {
             "colorbar": {
              "outlinewidth": 0,
              "ticks": ""
             }
            },
            "type": "scatterpolargl"
           }
          ],
          "scatterternary": [
           {
            "marker": {
             "colorbar": {
              "outlinewidth": 0,
              "ticks": ""
             }
            },
            "type": "scatterternary"
           }
          ],
          "surface": [
           {
            "colorbar": {
             "outlinewidth": 0,
             "ticks": ""
            },
            "colorscale": [
             [
              0,
              "#0d0887"
             ],
             [
              0.1111111111111111,
              "#46039f"
             ],
             [
              0.2222222222222222,
              "#7201a8"
             ],
             [
              0.3333333333333333,
              "#9c179e"
             ],
             [
              0.4444444444444444,
              "#bd3786"
             ],
             [
              0.5555555555555556,
              "#d8576b"
             ],
             [
              0.6666666666666666,
              "#ed7953"
             ],
             [
              0.7777777777777778,
              "#fb9f3a"
             ],
             [
              0.8888888888888888,
              "#fdca26"
             ],
             [
              1,
              "#f0f921"
             ]
            ],
            "type": "surface"
           }
          ],
          "table": [
           {
            "cells": {
             "fill": {
              "color": "#EBF0F8"
             },
             "line": {
              "color": "white"
             }
            },
            "header": {
             "fill": {
              "color": "#C8D4E3"
             },
             "line": {
              "color": "white"
             }
            },
            "type": "table"
           }
          ]
         },
         "layout": {
          "annotationdefaults": {
           "arrowcolor": "#2a3f5f",
           "arrowhead": 0,
           "arrowwidth": 1
          },
          "autotypenumbers": "strict",
          "coloraxis": {
           "colorbar": {
            "outlinewidth": 0,
            "ticks": ""
           }
          },
          "colorscale": {
           "diverging": [
            [
             0,
             "#8e0152"
            ],
            [
             0.1,
             "#c51b7d"
            ],
            [
             0.2,
             "#de77ae"
            ],
            [
             0.3,
             "#f1b6da"
            ],
            [
             0.4,
             "#fde0ef"
            ],
            [
             0.5,
             "#f7f7f7"
            ],
            [
             0.6,
             "#e6f5d0"
            ],
            [
             0.7,
             "#b8e186"
            ],
            [
             0.8,
             "#7fbc41"
            ],
            [
             0.9,
             "#4d9221"
            ],
            [
             1,
             "#276419"
            ]
           ],
           "sequential": [
            [
             0,
             "#0d0887"
            ],
            [
             0.1111111111111111,
             "#46039f"
            ],
            [
             0.2222222222222222,
             "#7201a8"
            ],
            [
             0.3333333333333333,
             "#9c179e"
            ],
            [
             0.4444444444444444,
             "#bd3786"
            ],
            [
             0.5555555555555556,
             "#d8576b"
            ],
            [
             0.6666666666666666,
             "#ed7953"
            ],
            [
             0.7777777777777778,
             "#fb9f3a"
            ],
            [
             0.8888888888888888,
             "#fdca26"
            ],
            [
             1,
             "#f0f921"
            ]
           ],
           "sequentialminus": [
            [
             0,
             "#0d0887"
            ],
            [
             0.1111111111111111,
             "#46039f"
            ],
            [
             0.2222222222222222,
             "#7201a8"
            ],
            [
             0.3333333333333333,
             "#9c179e"
            ],
            [
             0.4444444444444444,
             "#bd3786"
            ],
            [
             0.5555555555555556,
             "#d8576b"
            ],
            [
             0.6666666666666666,
             "#ed7953"
            ],
            [
             0.7777777777777778,
             "#fb9f3a"
            ],
            [
             0.8888888888888888,
             "#fdca26"
            ],
            [
             1,
             "#f0f921"
            ]
           ]
          },
          "colorway": [
           "#636efa",
           "#EF553B",
           "#00cc96",
           "#ab63fa",
           "#FFA15A",
           "#19d3f3",
           "#FF6692",
           "#B6E880",
           "#FF97FF",
           "#FECB52"
          ],
          "font": {
           "color": "#2a3f5f"
          },
          "geo": {
           "bgcolor": "white",
           "lakecolor": "white",
           "landcolor": "#E5ECF6",
           "showlakes": true,
           "showland": true,
           "subunitcolor": "white"
          },
          "hoverlabel": {
           "align": "left"
          },
          "hovermode": "closest",
          "mapbox": {
           "style": "light"
          },
          "paper_bgcolor": "white",
          "plot_bgcolor": "#E5ECF6",
          "polar": {
           "angularaxis": {
            "gridcolor": "white",
            "linecolor": "white",
            "ticks": ""
           },
           "bgcolor": "#E5ECF6",
           "radialaxis": {
            "gridcolor": "white",
            "linecolor": "white",
            "ticks": ""
           }
          },
          "scene": {
           "xaxis": {
            "backgroundcolor": "#E5ECF6",
            "gridcolor": "white",
            "gridwidth": 2,
            "linecolor": "white",
            "showbackground": true,
            "ticks": "",
            "zerolinecolor": "white"
           },
           "yaxis": {
            "backgroundcolor": "#E5ECF6",
            "gridcolor": "white",
            "gridwidth": 2,
            "linecolor": "white",
            "showbackground": true,
            "ticks": "",
            "zerolinecolor": "white"
           },
           "zaxis": {
            "backgroundcolor": "#E5ECF6",
            "gridcolor": "white",
            "gridwidth": 2,
            "linecolor": "white",
            "showbackground": true,
            "ticks": "",
            "zerolinecolor": "white"
           }
          },
          "shapedefaults": {
           "line": {
            "color": "#2a3f5f"
           }
          },
          "ternary": {
           "aaxis": {
            "gridcolor": "white",
            "linecolor": "white",
            "ticks": ""
           },
           "baxis": {
            "gridcolor": "white",
            "linecolor": "white",
            "ticks": ""
           },
           "bgcolor": "#E5ECF6",
           "caxis": {
            "gridcolor": "white",
            "linecolor": "white",
            "ticks": ""
           }
          },
          "title": {
           "x": 0.05
          },
          "xaxis": {
           "automargin": true,
           "gridcolor": "white",
           "linecolor": "white",
           "ticks": "",
           "title": {
            "standoff": 15
           },
           "zerolinecolor": "white",
           "zerolinewidth": 2
          },
          "yaxis": {
           "automargin": true,
           "gridcolor": "white",
           "linecolor": "white",
           "ticks": "",
           "title": {
            "standoff": 15
           },
           "zerolinecolor": "white",
           "zerolinewidth": 2
          }
         }
        },
        "title": {
         "text": "Out of tube proportions"
        }
       }
      }
     },
     "metadata": {},
     "output_type": "display_data"
    }
   ],
   "source": [
    "T.plot_scores()"
   ]
  },
  {
   "cell_type": "markdown",
   "metadata": {},
   "source": [
    "## Interactivité des tubes\n",
    "\n",
    "Les tubes ont une interface interactives comme les `Selector` et les `Opset`. Elle est obtenue par la méthode `.plot()`."
   ]
  },
  {
   "cell_type": "code",
   "execution_count": 21,
   "metadata": {},
   "outputs": [
    {
     "data": {
      "application/vnd.jupyter.widget-view+json": {
       "model_id": "1341a82ebd014ce28305328bd891cdbd",
       "version_major": 2,
       "version_minor": 0
      },
      "text/plain": [
       "Tab(children=(VBox(children=(HBox(children=(Dropdown(description='Variable :', options=('ALT[m]', 'Tisa[K]', '…"
      ]
     },
     "metadata": {},
     "output_type": "display_data"
    }
   ],
   "source": [
    "T.plot()"
   ]
  },
  {
   "cell_type": "markdown",
   "metadata": {},
   "source": [
    "Trois onglets sont accessibles :\n",
    "- **Plot** est l'affichage standard des Opsets sur lequel est rajouté le tube en vert pâle.\n",
    "- **Param** donne un accès interactif à l'ensemble des parmètres du tube.\n",
    "- **Learn** permet de relancer un apprentissage."
   ]
  },
  {
   "cell_type": "markdown",
   "metadata": {},
   "source": [
    "### Relancer un apprentissage interactivement.\n",
    "\n",
    "L'onglet **Learn** permet de sélectionner des variables et des facteurs pour un nouvel apprentissage. Les anciens apprentissages sont soit gardés, soit remplacés. Cela permet de spécifier des apprentissages spécifiques par variable."
   ]
  },
  {
   "cell_type": "markdown",
   "metadata": {},
   "source": [
    "## Réintégrer un tube sur l'Opset initial.\n",
    "\n",
    "Un objet applicatif `AppTube` permet de superposer un tube local à un Opset initial.\n",
    "\n",
    "_(Il faut bien sur que l'Opset initial et le tube soient compatibles comme pour la fonction `tubes.highlight()`.)_"
   ]
  },
  {
   "cell_type": "code",
   "execution_count": 22,
   "metadata": {},
   "outputs": [
    {
     "data": {
      "application/vnd.jupyter.widget-view+json": {
       "model_id": "2cc5435d92b24c10bcbd5de9341f1c93",
       "version_major": 2,
       "version_minor": 0
      },
      "text/plain": [
       "VBox(children=(HBox(children=(Dropdown(description='Variable :', options=('ALT[m]', 'Tisa[K]', 'TAS[m/s]', 'Vz…"
      ]
     },
     "metadata": {},
     "output_type": "display_data"
    }
   ],
   "source": [
    "A = AppTube(S,T)\n",
    "A.plot()"
   ]
  },
  {
   "cell_type": "markdown",
   "metadata": {},
   "source": [
    "_Jérôme Lacaille (YOR)_"
   ]
  }
 ],
 "metadata": {
  "kernelspec": {
   "display_name": "Python 3",
   "language": "python",
   "name": "python3"
  },
  "language_info": {
   "codemirror_mode": {
    "name": "ipython",
    "version": 3
   },
   "file_extension": ".py",
   "mimetype": "text/x-python",
   "name": "python",
   "nbconvert_exporter": "python",
   "pygments_lexer": "ipython3",
   "version": "3.9.4"
  },
  "widgets": {
   "application/vnd.jupyter.widget-state+json": {
    "state": {},
    "version_major": 2,
    "version_minor": 0
   }
  }
 },
 "nbformat": 4,
 "nbformat_minor": 4
}
